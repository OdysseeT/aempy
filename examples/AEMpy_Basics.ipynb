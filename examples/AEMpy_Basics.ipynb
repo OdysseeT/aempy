{
 "cells": [
  {
   "cell_type": "code",
   "execution_count": 1,
   "metadata": {
    "ExecuteTime": {
     "end_time": "2020-08-26T13:47:57.795473Z",
     "start_time": "2020-08-26T13:47:57.316757Z"
    }
   },
   "outputs": [],
   "source": [
    "# Import AEMpy library\n",
    "import aempy"
   ]
  },
  {
   "cell_type": "markdown",
   "metadata": {},
   "source": [
    "### Connect and display the AEM version"
   ]
  },
  {
   "cell_type": "code",
   "execution_count": 2,
   "metadata": {
    "ExecuteTime": {
     "end_time": "2020-08-26T13:47:57.799948Z",
     "start_time": "2020-08-26T13:47:57.797288Z"
    }
   },
   "outputs": [],
   "source": [
    "# Connect to the AEM Instance\n",
    "instance = aempy.AEM()"
   ]
  },
  {
   "cell_type": "code",
   "execution_count": 3,
   "metadata": {
    "ExecuteTime": {
     "end_time": "2020-08-26T13:47:57.820297Z",
     "start_time": "2020-08-26T13:47:57.803100Z"
    }
   },
   "outputs": [
    {
     "name": "stdout",
     "output_type": "stream",
     "text": [
      "Request: http://localhost:4502/system/console/status-productinfo.json\n"
     ]
    }
   ],
   "source": [
    "# Get the product information\n",
    "productinfo = instance.info()"
   ]
  },
  {
   "cell_type": "code",
   "execution_count": 4,
   "metadata": {
    "ExecuteTime": {
     "end_time": "2020-08-26T13:47:57.826063Z",
     "start_time": "2020-08-26T13:47:57.823252Z"
    }
   },
   "outputs": [
    {
     "name": "stdout",
     "output_type": "stream",
     "text": [
      "Adobe Experience Manager (6.5.5.0)\n"
     ]
    }
   ],
   "source": [
    "# Print the product version\n",
    "print(productinfo.version)"
   ]
  },
  {
   "cell_type": "markdown",
   "metadata": {},
   "source": [
    "### Get the error logs"
   ]
  },
  {
   "cell_type": "code",
   "execution_count": 5,
   "metadata": {
    "ExecuteTime": {
     "end_time": "2020-08-26T13:47:57.831396Z",
     "start_time": "2020-08-26T13:47:57.828379Z"
    }
   },
   "outputs": [],
   "source": [
    "# Connect to the system console\n",
    "system = aempy.System()"
   ]
  },
  {
   "cell_type": "code",
   "execution_count": 6,
   "metadata": {
    "ExecuteTime": {
     "end_time": "2020-08-26T13:47:57.850936Z",
     "start_time": "2020-08-26T13:47:57.834026Z"
    }
   },
   "outputs": [
    {
     "name": "stdout",
     "output_type": "stream",
     "text": [
      "Request: http://localhost:4502/system/console/slinglog/tailer.txt?tail=5&grep=*&name=/logs/error.log\n"
     ]
    }
   ],
   "source": [
    "# Get the five first lines of the error.log file\n",
    "errorlogs = system.log_error(5)"
   ]
  },
  {
   "cell_type": "code",
   "execution_count": 7,
   "metadata": {
    "ExecuteTime": {
     "end_time": "2020-08-26T13:47:57.858536Z",
     "start_time": "2020-08-26T13:47:57.853034Z"
    }
   },
   "outputs": [
    {
     "name": "stdout",
     "output_type": "stream",
     "text": [
      "['26.08.2020 15:47:39.344 *INFO* [oak-repository-executor-1] com.adobe.granite.repository Service [8645, [org.apache.jackrabbit.oak.api.jmx.SessionMBean]] ServiceEvent REGISTERED', '26.08.2020 15:47:39.345 *INFO* [oak-repository-executor-1] com.adobe.granite.repository Service [8646, [org.apache.jackrabbit.oak.api.jmx.SessionMBean]] ServiceEvent REGISTERED', '26.08.2020 15:47:39.345 *INFO* [oak-repository-executor-1] com.adobe.granite.repository Service [8647, [org.apache.jackrabbit.oak.api.jmx.SessionMBean]] ServiceEvent REGISTERED', '26.08.2020 15:47:42.897 *ERROR* [sling-threadpool-67387070-8373-45bd-bead-d6282f6b4973-(apache-sling-job-thread-pool)-32-com_day_cq_replication_job_publish(com/day/cq/replication/job/publish)] com.day.cq.replication.impl.AgentManagerImpl Job contains agent which is not started: publish. waiting ReplicationJob{job=JobImpl [properties=org.apache.sling.api.wrappers.ValueMapDecorator@fcb7bbd0 : {event.job.retrydelay=60000, cq:type=DELETE, slingevent:application=89c6a6c1-42e1-4612-80c7-fe23337dd8fe, jcr:created=java.util.GregorianCalendar[time=1596618574733,areFieldsSet=true,areAllFieldsSet=true,lenient=false,zone=sun.util.calendar.ZoneInfo[id=\"GMT+02:00\",offset=7200000,dstSavings=0,useDaylight=false,transitions=0,lastRule=null],firstDayOfWeek=1,minimalDaysInFirstWeek=1,ERA=1,YEAR=2020,MONTH=7,WEEK_OF_YEAR=32,WEEK_OF_MONTH=2,DAY_OF_MONTH=5,DAY_OF_YEAR=218,DAY_OF_WEEK=4,DAY_OF_WEEK_IN_MONTH=1,AM_PM=0,HOUR=11,HOUR_OF_DAY=11,MINUTE=9,SECOND=34,MILLISECOND=733,ZONE_OFFSET=7200000,DST_OFFSET=0], slingevent:created=java.util.GregorianCalendar[time=1596618574703,areFieldsSet=true,areAllFieldsSet=true,lenient=false,zone=sun.util.calendar.ZoneInfo[id=\"GMT+02:00\",offset=7200000,dstSavings=0,useDaylight=false,transitions=0,lastRule=null],firstDayOfWeek=1,minimalDaysInFirstWeek=1,ERA=1,YEAR=2020,MONTH=7,WEEK_OF_YEAR=32,WEEK_OF_MONTH=2,DAY_OF_MONTH=5,DAY_OF_YEAR=218,DAY_OF_WEEK=4,DAY_OF_WEEK_IN_MONTH=1,AM_PM=0,HOUR=11,HOUR_OF_DAY=11,MINUTE=9,SECOND=34,MILLISECOND=703,ZONE_OFFSET=7200000,DST_OFFSET=0], event.job.queuename=com_day_cq_replication_job_publish, event.job.queued.time=java.util.GregorianCalendar[time=1598004761228,areFieldsSet=true,areAllFieldsSet=true,lenient=false,zone=sun.util.calendar.ZoneInfo[id=\"GMT+02:00\",offset=7200000,dstSavings=0,useDaylight=false,transitions=0,lastRule=null],firstDayOfWeek=1,minimalDaysInFirstWeek=1,ERA=1,YEAR=2020,MONTH=7,WEEK_OF_YEAR=34,WEEK_OF_MONTH=4,DAY_OF_MONTH=21,DAY_OF_YEAR=234,DAY_OF_WEEK=6,DAY_OF_WEEK_IN_MONTH=3,AM_PM=1,HOUR=0,HOUR_OF_DAY=12,MINUTE=12,SECOND=41,MILLISECOND=228,ZONE_OFFSET=7200000,DST_OFFSET=0], jcr:createdBy=sling-event, sling:resourceType=slingevent:Job, slingevent:eventId=2020/8/5/11/9/89c6a6c1-42e1-4612-80c7-fe23337dd8fe_0, event.job.application=89c6a6c1-42e1-4612-80c7-fe23337dd8fe, event.job.retries=-1, cq:path=/content/csprojects/odysseev22, cq:user=admin, event.job.started.time=java.util.GregorianCalendar[time=1598449662894,areFieldsSet=true,areAllFieldsSet=true,lenient=true,zone=sun.util.calendar.ZoneInfo[id=\"Europe/Paris\",offset=3600000,dstSavings=3600000,useDaylight=true,transitions=184,lastRule=java.util.SimpleTimeZone[id=Europe/Paris,offset=3600000,dstSavings=3600000,useDaylight=true,startYear=0,startMode=2,startMonth=2,startDay=-1,startDayOfWeek=1,startTime=3600000,startTimeMode=2,endMode=2,endMonth=9,endDay=-1,endDayOfWeek=1,endTime=3600000,endTimeMode=2]],firstDayOfWeek=1,minimalDaysInFirstWeek=1,ERA=1,YEAR=2020,MONTH=7,WEEK_OF_YEAR=35,WEEK_OF_MONTH=5,DAY_OF_MONTH=26,DAY_OF_YEAR=239,DAY_OF_WEEK=4,DAY_OF_WEEK_IN_MONTH=4,AM_PM=1,HOUR=3,HOUR_OF_DAY=15,MINUTE=47,SECOND=42,MILLISECOND=894,ZONE_OFFSET=3600000,DST_OFFSET=3600000], jcr:primaryType=slingevent:Job, event.job.retrycount=3581, event.job.topic=com/day/cq/replication/job/publish, cq:time=1596618574699}, topic=com/day/cq/replication/job/publish, path=/var/eventing/jobs/assigned/89c6a6c1-42e1-4612-80c7-fe23337dd8fe/com.day.cq.replication.job.publish/2020/8/5/11/9/89c6a6c1-42e1-4612-80c7-fe23337dd8fe_0, jobId=2020/8/5/11/9/89c6a6c1-42e1-4612-80c7-fe23337dd8fe_0]}', '']\n"
     ]
    }
   ],
   "source": [
    "# Print the lines\n",
    "print(errorlogs)"
   ]
  },
  {
   "cell_type": "markdown",
   "metadata": {},
   "source": [
    "### Parse the logs"
   ]
  },
  {
   "cell_type": "code",
   "execution_count": 8,
   "metadata": {
    "ExecuteTime": {
     "end_time": "2020-08-26T13:47:57.946329Z",
     "start_time": "2020-08-26T13:47:57.863615Z"
    }
   },
   "outputs": [
    {
     "name": "stdout",
     "output_type": "stream",
     "text": [
      "Request: http://localhost:4502/system/console/slinglog/tailer.txt?tail=10000&grep=*&name=/logs/error.log\n"
     ]
    }
   ],
   "source": [
    "# Let's get more line from error.log (default: 10.000 lines)\n",
    "errorlogs = system.log_error()"
   ]
  },
  {
   "cell_type": "markdown",
   "metadata": {},
   "source": [
    "We import a new library named **pandas** (it has nothing to do with the animal). Pandas is a Data analysis and manipulation library, mainly using a dataframe object"
   ]
  },
  {
   "cell_type": "code",
   "execution_count": 9,
   "metadata": {
    "ExecuteTime": {
     "end_time": "2020-08-26T13:47:57.951543Z",
     "start_time": "2020-08-26T13:47:57.949464Z"
    }
   },
   "outputs": [],
   "source": [
    "# Import Pandas library\n",
    "import pandas as pd"
   ]
  },
  {
   "cell_type": "code",
   "execution_count": 10,
   "metadata": {
    "ExecuteTime": {
     "end_time": "2020-08-26T13:47:57.987078Z",
     "start_time": "2020-08-26T13:47:57.953735Z"
    }
   },
   "outputs": [],
   "source": [
    "# Split the logs and arrange in a table using the Pandas library\n",
    "dfLog = pd.DataFrame([sub.split(\" \") for sub in errorlogs])"
   ]
  },
  {
   "cell_type": "markdown",
   "metadata": {},
   "source": [
    "*Note: It is a good practice to have all the imports at the begining of your python program. But for the comprehension of this tutorial, we added it here.*"
   ]
  },
  {
   "cell_type": "code",
   "execution_count": 11,
   "metadata": {
    "ExecuteTime": {
     "end_time": "2020-08-26T13:47:58.016253Z",
     "start_time": "2020-08-26T13:47:57.989023Z"
    }
   },
   "outputs": [],
   "source": [
    "# Split the logs and arrange in a table using the Pandas library\n",
    "dfLog = pd.DataFrame([sub.split(\" \") for sub in errorlogs])"
   ]
  },
  {
   "cell_type": "code",
   "execution_count": 12,
   "metadata": {
    "ExecuteTime": {
     "end_time": "2020-08-26T13:47:58.024841Z",
     "start_time": "2020-08-26T13:47:58.018623Z"
    }
   },
   "outputs": [],
   "source": [
    "# Add Names to the columns\n",
    "dfLog = dfLog.rename(columns={0:'date',1:'time',2:'level',3:'ID',4:'class',5:'msg'})"
   ]
  },
  {
   "cell_type": "code",
   "execution_count": 14,
   "metadata": {
    "ExecuteTime": {
     "end_time": "2020-08-26T13:48:09.563507Z",
     "start_time": "2020-08-26T13:48:09.547068Z"
    }
   },
   "outputs": [
    {
     "name": "stdout",
     "output_type": "stream",
     "text": [
      "            date          time    level  \\\n",
      "0     26.08.2020  01:29:20.014   *INFO*   \n",
      "1     26.08.2020  01:29:20.040   *INFO*   \n",
      "2     26.08.2020  01:29:20.016   *INFO*   \n",
      "3     26.08.2020  01:29:20.015   *INFO*   \n",
      "4     26.08.2020  01:29:20.050   *INFO*   \n",
      "...          ...           ...      ...   \n",
      "2189  26.08.2020  15:47:39.344   *INFO*   \n",
      "2190  26.08.2020  15:47:39.345   *INFO*   \n",
      "2191  26.08.2020  15:47:39.345   *INFO*   \n",
      "2192  26.08.2020  15:47:42.897  *ERROR*   \n",
      "2193                      None     None   \n",
      "\n",
      "                                                     ID  \\\n",
      "0                           [sling-default-5-Registered   \n",
      "1                           [sling-default-3-Registered   \n",
      "2     [sling-default-2-com.adobe.cq.wcm.translation....   \n",
      "3                           [sling-default-1-Registered   \n",
      "4     [sling-default-1-com.adobe.granite.threaddump....   \n",
      "...                                                 ...   \n",
      "2189                        [oak-repository-executor-1]   \n",
      "2190                        [oak-repository-executor-1]   \n",
      "2191                        [oak-repository-executor-1]   \n",
      "2192  [sling-threadpool-67387070-8373-45bd-bead-d628...   \n",
      "2193                                               None   \n",
      "\n",
      "                                                  class  \\\n",
      "0                                         Service.1250]   \n",
      "1                                         Service.3940]   \n",
      "2     com.adobe.cq.wcm.translation.impl.scheduler.Sc...   \n",
      "3                                         Service.1296]   \n",
      "4       com.adobe.granite.threaddump.impl.BackupCleaner   \n",
      "...                                                 ...   \n",
      "2189                       com.adobe.granite.repository   \n",
      "2190                       com.adobe.granite.repository   \n",
      "2191                       com.adobe.granite.repository   \n",
      "2192       com.day.cq.replication.impl.AgentManagerImpl   \n",
      "2193                                               None   \n",
      "\n",
      "                                                    msg  \\\n",
      "0     com.adobe.granite.taskmanagement.impl.jcr.Task...   \n",
      "1     com.adobe.cq.wcm.jobs.async.impl.AsyncJobClean...   \n",
      "2                                              Starting   \n",
      "3     com.adobe.granite.oauth.server.impl.AccessToke...   \n",
      "4                                              Cleaning   \n",
      "...                                                 ...   \n",
      "2189                                            Service   \n",
      "2190                                            Service   \n",
      "2191                                            Service   \n",
      "2192                                                Job   \n",
      "2193                                               None   \n",
      "\n",
      "                            6  \\\n",
      "0                   archiving   \n",
      "1                       Async   \n",
      "2                        sync   \n",
      "3     AccessTokenCleanupTask:   \n",
      "4                   backup(s)   \n",
      "...                       ...   \n",
      "2189                   [8645,   \n",
      "2190                   [8646,   \n",
      "2191                   [8647,   \n",
      "2192                 contains   \n",
      "2193                     None   \n",
      "\n",
      "                                                      7             8  \\\n",
      "0                                                 tasks           at:   \n",
      "1                                                  jobs       purging   \n",
      "2                                               process           now   \n",
      "3                                               Removed             0   \n",
      "4                                                 older          than   \n",
      "...                                                 ...           ...   \n",
      "2189  [org.apache.jackrabbit.oak.api.jmx.SessionMBean]]  ServiceEvent   \n",
      "2190  [org.apache.jackrabbit.oak.api.jmx.SessionMBean]]  ServiceEvent   \n",
      "2191  [org.apache.jackrabbit.oak.api.jmx.SessionMBean]]  ServiceEvent   \n",
      "2192                                              agent         which   \n",
      "2193                                               None          None   \n",
      "\n",
      "               9  ...    49    50    51    52    53    54    55    56    57  \\\n",
      "0           'Wed  ...  None  None  None  None  None  None  None  None  None   \n",
      "1            job  ...  None  None  None  None  None  None  None  None  None   \n",
      "2           None  ...  None  None  None  None  None  None  None  None  None   \n",
      "3       token(s)  ...  None  None  None  None  None  None  None  None  None   \n",
      "4              7  ...  None  None  None  None  None  None  None  None  None   \n",
      "...          ...  ...   ...   ...   ...   ...   ...   ...   ...   ...   ...   \n",
      "2189  REGISTERED  ...  None  None  None  None  None  None  None  None  None   \n",
      "2190  REGISTERED  ...  None  None  None  None  None  None  None  None  None   \n",
      "2191  REGISTERED  ...  None  None  None  None  None  None  None  None  None   \n",
      "2192          is  ...  None  None  None  None  None  None  None  None  None   \n",
      "2193        None  ...  None  None  None  None  None  None  None  None  None   \n",
      "\n",
      "        58  \n",
      "0     None  \n",
      "1     None  \n",
      "2     None  \n",
      "3     None  \n",
      "4     None  \n",
      "...    ...  \n",
      "2189  None  \n",
      "2190  None  \n",
      "2191  None  \n",
      "2192  None  \n",
      "2193  None  \n",
      "\n",
      "[2194 rows x 59 columns]\n"
     ]
    }
   ],
   "source": [
    "# Print the parsed logs\n",
    "print(dfLog)"
   ]
  },
  {
   "cell_type": "markdown",
   "metadata": {},
   "source": [
    "### Convert logs to a pandas Dataframe"
   ]
  },
  {
   "cell_type": "code",
   "execution_count": 15,
   "metadata": {
    "ExecuteTime": {
     "end_time": "2020-08-26T13:48:24.904921Z",
     "start_time": "2020-08-26T13:48:19.356667Z"
    }
   },
   "outputs": [],
   "source": [
    "# There is a builtin parsing in AEMpy to automatically convert logs to pandas dataframe\n",
    "dfErrors = system.log_to_pandas(errorlogs)"
   ]
  },
  {
   "cell_type": "code",
   "execution_count": 17,
   "metadata": {
    "ExecuteTime": {
     "end_time": "2020-08-26T13:48:53.809428Z",
     "start_time": "2020-08-26T13:48:53.783846Z"
    }
   },
   "outputs": [
    {
     "data": {
      "text/html": [
       "<div>\n",
       "<style scoped>\n",
       "    .dataframe tbody tr th:only-of-type {\n",
       "        vertical-align: middle;\n",
       "    }\n",
       "\n",
       "    .dataframe tbody tr th {\n",
       "        vertical-align: top;\n",
       "    }\n",
       "\n",
       "    .dataframe thead th {\n",
       "        text-align: right;\n",
       "    }\n",
       "</style>\n",
       "<table border=\"1\" class=\"dataframe\">\n",
       "  <thead>\n",
       "    <tr style=\"text-align: right;\">\n",
       "      <th></th>\n",
       "      <th>date</th>\n",
       "      <th>level</th>\n",
       "      <th>class</th>\n",
       "      <th>message</th>\n",
       "    </tr>\n",
       "  </thead>\n",
       "  <tbody>\n",
       "    <tr>\n",
       "      <th>0</th>\n",
       "      <td>2020-08-26 01:29:20.014</td>\n",
       "      <td>INFO</td>\n",
       "      <td>sling-default-5-Registered</td>\n",
       "      <td>[Service.1250], com.adobe.granite.taskmanageme...</td>\n",
       "    </tr>\n",
       "    <tr>\n",
       "      <th>1</th>\n",
       "      <td>2020-08-26 01:29:20.040</td>\n",
       "      <td>INFO</td>\n",
       "      <td>sling-default-3-Registered</td>\n",
       "      <td>[Service.3940], com.adobe.cq.wcm.jobs.async.im...</td>\n",
       "    </tr>\n",
       "    <tr>\n",
       "      <th>2</th>\n",
       "      <td>2020-08-26 01:29:20.016</td>\n",
       "      <td>INFO</td>\n",
       "      <td>sling-default-2-com.adobe.cq.wcm.translation.i...</td>\n",
       "      <td>[com.adobe.cq.wcm.translation.impl.scheduler.S...</td>\n",
       "    </tr>\n",
       "    <tr>\n",
       "      <th>3</th>\n",
       "      <td>2020-08-26 01:29:20.015</td>\n",
       "      <td>INFO</td>\n",
       "      <td>sling-default-1-Registered</td>\n",
       "      <td>[Service.1296], com.adobe.granite.oauth.server...</td>\n",
       "    </tr>\n",
       "    <tr>\n",
       "      <th>4</th>\n",
       "      <td>2020-08-26 01:29:20.050</td>\n",
       "      <td>INFO</td>\n",
       "      <td>sling-default-1-com.adobe.granite.threaddump.i...</td>\n",
       "      <td>[com.adobe.granite.threaddump.impl.BackupClean...</td>\n",
       "    </tr>\n",
       "  </tbody>\n",
       "</table>\n",
       "</div>"
      ],
      "text/plain": [
       "                     date level  \\\n",
       "0 2020-08-26 01:29:20.014  INFO   \n",
       "1 2020-08-26 01:29:20.040  INFO   \n",
       "2 2020-08-26 01:29:20.016  INFO   \n",
       "3 2020-08-26 01:29:20.015  INFO   \n",
       "4 2020-08-26 01:29:20.050  INFO   \n",
       "\n",
       "                                               class  \\\n",
       "0                         sling-default-5-Registered   \n",
       "1                         sling-default-3-Registered   \n",
       "2  sling-default-2-com.adobe.cq.wcm.translation.i...   \n",
       "3                         sling-default-1-Registered   \n",
       "4  sling-default-1-com.adobe.granite.threaddump.i...   \n",
       "\n",
       "                                             message  \n",
       "0  [Service.1250], com.adobe.granite.taskmanageme...  \n",
       "1  [Service.3940], com.adobe.cq.wcm.jobs.async.im...  \n",
       "2  [com.adobe.cq.wcm.translation.impl.scheduler.S...  \n",
       "3  [Service.1296], com.adobe.granite.oauth.server...  \n",
       "4  [com.adobe.granite.threaddump.impl.BackupClean...  "
      ]
     },
     "execution_count": 17,
     "metadata": {},
     "output_type": "execute_result"
    }
   ],
   "source": [
    "# Print the first 10 lines of the pandas dataframe\n",
    "dfErrors.head()"
   ]
  },
  {
   "cell_type": "code",
   "execution_count": 18,
   "metadata": {
    "ExecuteTime": {
     "end_time": "2020-08-26T13:49:00.160242Z",
     "start_time": "2020-08-26T13:48:59.936210Z"
    }
   },
   "outputs": [
    {
     "name": "stderr",
     "output_type": "stream",
     "text": [
      "/Users/odyssee/opt/anaconda3/envs/aem/lib/python3.7/site-packages/ipykernel_launcher.py:2: FutureWarning: Treating datetime data as categorical rather than numeric in `.describe` is deprecated and will be removed in a future version of pandas. Specify `datetime_is_numeric=True` to silence this warning and adopt the future behavior now.\n",
      "  \n"
     ]
    },
    {
     "data": {
      "text/html": [
       "<div>\n",
       "<style scoped>\n",
       "    .dataframe tbody tr th:only-of-type {\n",
       "        vertical-align: middle;\n",
       "    }\n",
       "\n",
       "    .dataframe tbody tr th {\n",
       "        vertical-align: top;\n",
       "    }\n",
       "\n",
       "    .dataframe thead th {\n",
       "        text-align: right;\n",
       "    }\n",
       "</style>\n",
       "<table border=\"1\" class=\"dataframe\">\n",
       "  <thead>\n",
       "    <tr style=\"text-align: right;\">\n",
       "      <th></th>\n",
       "      <th>date</th>\n",
       "      <th>level</th>\n",
       "      <th>class</th>\n",
       "      <th>message</th>\n",
       "    </tr>\n",
       "  </thead>\n",
       "  <tbody>\n",
       "    <tr>\n",
       "      <th>count</th>\n",
       "      <td>2193</td>\n",
       "      <td>2193</td>\n",
       "      <td>2193</td>\n",
       "      <td>2193</td>\n",
       "    </tr>\n",
       "    <tr>\n",
       "      <th>unique</th>\n",
       "      <td>2174</td>\n",
       "      <td>3</td>\n",
       "      <td>80</td>\n",
       "      <td>1667</td>\n",
       "    </tr>\n",
       "    <tr>\n",
       "      <th>top</th>\n",
       "      <td>2020-08-26 08:42:06.020000</td>\n",
       "      <td>INFO</td>\n",
       "      <td>Apache</td>\n",
       "      <td>[org.apache.sling.discovery.oak.SynchronizedCl...</td>\n",
       "    </tr>\n",
       "    <tr>\n",
       "      <th>freq</th>\n",
       "      <td>3</td>\n",
       "      <td>1773</td>\n",
       "      <td>640</td>\n",
       "      <td>416</td>\n",
       "    </tr>\n",
       "    <tr>\n",
       "      <th>first</th>\n",
       "      <td>2020-08-26 01:29:20.014000</td>\n",
       "      <td>NaN</td>\n",
       "      <td>NaN</td>\n",
       "      <td>NaN</td>\n",
       "    </tr>\n",
       "    <tr>\n",
       "      <th>last</th>\n",
       "      <td>2020-08-26 15:47:42.897000</td>\n",
       "      <td>NaN</td>\n",
       "      <td>NaN</td>\n",
       "      <td>NaN</td>\n",
       "    </tr>\n",
       "  </tbody>\n",
       "</table>\n",
       "</div>"
      ],
      "text/plain": [
       "                              date level   class  \\\n",
       "count                         2193  2193    2193   \n",
       "unique                        2174     3      80   \n",
       "top     2020-08-26 08:42:06.020000  INFO  Apache   \n",
       "freq                             3  1773     640   \n",
       "first   2020-08-26 01:29:20.014000   NaN     NaN   \n",
       "last    2020-08-26 15:47:42.897000   NaN     NaN   \n",
       "\n",
       "                                                  message  \n",
       "count                                                2193  \n",
       "unique                                               1667  \n",
       "top     [org.apache.sling.discovery.oak.SynchronizedCl...  \n",
       "freq                                                  416  \n",
       "first                                                 NaN  \n",
       "last                                                  NaN  "
      ]
     },
     "execution_count": 18,
     "metadata": {},
     "output_type": "execute_result"
    }
   ],
   "source": [
    "# Ask pandas to provide a description of the dataframe\n",
    "dfErrors.describe()"
   ]
  },
  {
   "cell_type": "markdown",
   "metadata": {},
   "source": [
    "### Analyze the logs with the *ERROR* level"
   ]
  },
  {
   "cell_type": "code",
   "execution_count": 20,
   "metadata": {
    "ExecuteTime": {
     "end_time": "2020-08-26T13:49:15.818017Z",
     "start_time": "2020-08-26T13:49:15.811998Z"
    }
   },
   "outputs": [],
   "source": [
    "# Filter the logs by level\n",
    "dfLevelError = dfErrors[dfErrors[\"level\"].str.match(\"ERROR\")]"
   ]
  },
  {
   "cell_type": "code",
   "execution_count": 21,
   "metadata": {
    "ExecuteTime": {
     "end_time": "2020-08-26T13:49:16.533371Z",
     "start_time": "2020-08-26T13:49:16.530397Z"
    }
   },
   "outputs": [
    {
     "name": "stdout",
     "output_type": "stream",
     "text": [
      "Information about log errors:\n"
     ]
    }
   ],
   "source": [
    "# Add a title for the next actions\n",
    "print(\"Information about log errors:\")"
   ]
  },
  {
   "cell_type": "code",
   "execution_count": 22,
   "metadata": {
    "ExecuteTime": {
     "end_time": "2020-08-26T13:49:19.355706Z",
     "start_time": "2020-08-26T13:49:19.342619Z"
    }
   },
   "outputs": [
    {
     "data": {
      "text/html": [
       "<div>\n",
       "<style scoped>\n",
       "    .dataframe tbody tr th:only-of-type {\n",
       "        vertical-align: middle;\n",
       "    }\n",
       "\n",
       "    .dataframe tbody tr th {\n",
       "        vertical-align: top;\n",
       "    }\n",
       "\n",
       "    .dataframe thead th {\n",
       "        text-align: right;\n",
       "    }\n",
       "</style>\n",
       "<table border=\"1\" class=\"dataframe\">\n",
       "  <thead>\n",
       "    <tr style=\"text-align: right;\">\n",
       "      <th></th>\n",
       "      <th>date</th>\n",
       "      <th>level</th>\n",
       "      <th>class</th>\n",
       "      <th>message</th>\n",
       "    </tr>\n",
       "  </thead>\n",
       "  <tbody>\n",
       "    <tr>\n",
       "      <th>159</th>\n",
       "      <td>2020-08-26 07:45:05.851</td>\n",
       "      <td>ERROR</td>\n",
       "      <td>sling-threadpool-67387070-8373-45bd-bead-d6282...</td>\n",
       "      <td>[com.day.cq.replication.impl.AgentManagerImpl,...</td>\n",
       "    </tr>\n",
       "    <tr>\n",
       "      <th>165</th>\n",
       "      <td>2020-08-26 08:42:06.078</td>\n",
       "      <td>ERROR</td>\n",
       "      <td>sling-threadpool-67387070-8373-45bd-bead-d6282...</td>\n",
       "      <td>[com.day.cq.replication.impl.AgentManagerImpl,...</td>\n",
       "    </tr>\n",
       "    <tr>\n",
       "      <th>166</th>\n",
       "      <td>2020-08-26 08:50:27.257</td>\n",
       "      <td>ERROR</td>\n",
       "      <td>sling-threadpool-67387070-8373-45bd-bead-d6282...</td>\n",
       "      <td>[com.day.cq.replication.impl.AgentManagerImpl,...</td>\n",
       "    </tr>\n",
       "    <tr>\n",
       "      <th>168</th>\n",
       "      <td>2020-08-26 08:51:30.949</td>\n",
       "      <td>ERROR</td>\n",
       "      <td>sling-threadpool-67387070-8373-45bd-bead-d6282...</td>\n",
       "      <td>[com.day.cq.replication.impl.AgentManagerImpl,...</td>\n",
       "    </tr>\n",
       "    <tr>\n",
       "      <th>170</th>\n",
       "      <td>2020-08-26 08:53:38.216</td>\n",
       "      <td>ERROR</td>\n",
       "      <td>sling-threadpool-67387070-8373-45bd-bead-d6282...</td>\n",
       "      <td>[com.day.cq.replication.impl.AgentManagerImpl,...</td>\n",
       "    </tr>\n",
       "  </tbody>\n",
       "</table>\n",
       "</div>"
      ],
      "text/plain": [
       "                       date  level  \\\n",
       "159 2020-08-26 07:45:05.851  ERROR   \n",
       "165 2020-08-26 08:42:06.078  ERROR   \n",
       "166 2020-08-26 08:50:27.257  ERROR   \n",
       "168 2020-08-26 08:51:30.949  ERROR   \n",
       "170 2020-08-26 08:53:38.216  ERROR   \n",
       "\n",
       "                                                 class  \\\n",
       "159  sling-threadpool-67387070-8373-45bd-bead-d6282...   \n",
       "165  sling-threadpool-67387070-8373-45bd-bead-d6282...   \n",
       "166  sling-threadpool-67387070-8373-45bd-bead-d6282...   \n",
       "168  sling-threadpool-67387070-8373-45bd-bead-d6282...   \n",
       "170  sling-threadpool-67387070-8373-45bd-bead-d6282...   \n",
       "\n",
       "                                               message  \n",
       "159  [com.day.cq.replication.impl.AgentManagerImpl,...  \n",
       "165  [com.day.cq.replication.impl.AgentManagerImpl,...  \n",
       "166  [com.day.cq.replication.impl.AgentManagerImpl,...  \n",
       "168  [com.day.cq.replication.impl.AgentManagerImpl,...  \n",
       "170  [com.day.cq.replication.impl.AgentManagerImpl,...  "
      ]
     },
     "execution_count": 22,
     "metadata": {},
     "output_type": "execute_result"
    }
   ],
   "source": [
    "# Display the first 5 lines of the dataframe\n",
    "dfLevelError.head()"
   ]
  },
  {
   "cell_type": "code",
   "execution_count": 23,
   "metadata": {
    "ExecuteTime": {
     "end_time": "2020-08-26T13:49:26.805917Z",
     "start_time": "2020-08-26T13:49:26.779399Z"
    }
   },
   "outputs": [
    {
     "data": {
      "text/html": [
       "<div>\n",
       "<style scoped>\n",
       "    .dataframe tbody tr th:only-of-type {\n",
       "        vertical-align: middle;\n",
       "    }\n",
       "\n",
       "    .dataframe tbody tr th {\n",
       "        vertical-align: top;\n",
       "    }\n",
       "\n",
       "    .dataframe thead th {\n",
       "        text-align: right;\n",
       "    }\n",
       "</style>\n",
       "<table border=\"1\" class=\"dataframe\">\n",
       "  <thead>\n",
       "    <tr style=\"text-align: right;\">\n",
       "      <th></th>\n",
       "      <th>date</th>\n",
       "      <th>level</th>\n",
       "      <th>class</th>\n",
       "      <th>message</th>\n",
       "    </tr>\n",
       "  </thead>\n",
       "  <tbody>\n",
       "    <tr>\n",
       "      <th>2178</th>\n",
       "      <td>2020-08-26 15:43:42.860</td>\n",
       "      <td>ERROR</td>\n",
       "      <td>sling-threadpool-67387070-8373-45bd-bead-d6282...</td>\n",
       "      <td>[com.day.cq.replication.impl.AgentManagerImpl,...</td>\n",
       "    </tr>\n",
       "    <tr>\n",
       "      <th>2180</th>\n",
       "      <td>2020-08-26 15:44:42.869</td>\n",
       "      <td>ERROR</td>\n",
       "      <td>sling-threadpool-67387070-8373-45bd-bead-d6282...</td>\n",
       "      <td>[com.day.cq.replication.impl.AgentManagerImpl,...</td>\n",
       "    </tr>\n",
       "    <tr>\n",
       "      <th>2182</th>\n",
       "      <td>2020-08-26 15:45:42.878</td>\n",
       "      <td>ERROR</td>\n",
       "      <td>sling-threadpool-67387070-8373-45bd-bead-d6282...</td>\n",
       "      <td>[com.day.cq.replication.impl.AgentManagerImpl,...</td>\n",
       "    </tr>\n",
       "    <tr>\n",
       "      <th>2185</th>\n",
       "      <td>2020-08-26 15:46:42.886</td>\n",
       "      <td>ERROR</td>\n",
       "      <td>sling-threadpool-67387070-8373-45bd-bead-d6282...</td>\n",
       "      <td>[com.day.cq.replication.impl.AgentManagerImpl,...</td>\n",
       "    </tr>\n",
       "    <tr>\n",
       "      <th>2192</th>\n",
       "      <td>2020-08-26 15:47:42.897</td>\n",
       "      <td>ERROR</td>\n",
       "      <td>sling-threadpool-67387070-8373-45bd-bead-d6282...</td>\n",
       "      <td>[com.day.cq.replication.impl.AgentManagerImpl,...</td>\n",
       "    </tr>\n",
       "  </tbody>\n",
       "</table>\n",
       "</div>"
      ],
      "text/plain": [
       "                        date  level  \\\n",
       "2178 2020-08-26 15:43:42.860  ERROR   \n",
       "2180 2020-08-26 15:44:42.869  ERROR   \n",
       "2182 2020-08-26 15:45:42.878  ERROR   \n",
       "2185 2020-08-26 15:46:42.886  ERROR   \n",
       "2192 2020-08-26 15:47:42.897  ERROR   \n",
       "\n",
       "                                                  class  \\\n",
       "2178  sling-threadpool-67387070-8373-45bd-bead-d6282...   \n",
       "2180  sling-threadpool-67387070-8373-45bd-bead-d6282...   \n",
       "2182  sling-threadpool-67387070-8373-45bd-bead-d6282...   \n",
       "2185  sling-threadpool-67387070-8373-45bd-bead-d6282...   \n",
       "2192  sling-threadpool-67387070-8373-45bd-bead-d6282...   \n",
       "\n",
       "                                                message  \n",
       "2178  [com.day.cq.replication.impl.AgentManagerImpl,...  \n",
       "2180  [com.day.cq.replication.impl.AgentManagerImpl,...  \n",
       "2182  [com.day.cq.replication.impl.AgentManagerImpl,...  \n",
       "2185  [com.day.cq.replication.impl.AgentManagerImpl,...  \n",
       "2192  [com.day.cq.replication.impl.AgentManagerImpl,...  "
      ]
     },
     "execution_count": 23,
     "metadata": {},
     "output_type": "execute_result"
    }
   ],
   "source": [
    "# Display the last 5 lines of the dataframe\n",
    "dfLevelError.tail()"
   ]
  },
  {
   "cell_type": "code",
   "execution_count": 24,
   "metadata": {
    "ExecuteTime": {
     "end_time": "2020-08-26T13:49:43.285992Z",
     "start_time": "2020-08-26T13:49:43.215105Z"
    }
   },
   "outputs": [
    {
     "name": "stderr",
     "output_type": "stream",
     "text": [
      "/Users/odyssee/opt/anaconda3/envs/aem/lib/python3.7/site-packages/ipykernel_launcher.py:2: FutureWarning: Treating datetime data as categorical rather than numeric in `.describe` is deprecated and will be removed in a future version of pandas. Specify `datetime_is_numeric=True` to silence this warning and adopt the future behavior now.\n",
      "  \n"
     ]
    },
    {
     "data": {
      "text/html": [
       "<div>\n",
       "<style scoped>\n",
       "    .dataframe tbody tr th:only-of-type {\n",
       "        vertical-align: middle;\n",
       "    }\n",
       "\n",
       "    .dataframe tbody tr th {\n",
       "        vertical-align: top;\n",
       "    }\n",
       "\n",
       "    .dataframe thead th {\n",
       "        text-align: right;\n",
       "    }\n",
       "</style>\n",
       "<table border=\"1\" class=\"dataframe\">\n",
       "  <thead>\n",
       "    <tr style=\"text-align: right;\">\n",
       "      <th></th>\n",
       "      <th>date</th>\n",
       "      <th>level</th>\n",
       "      <th>class</th>\n",
       "      <th>message</th>\n",
       "    </tr>\n",
       "  </thead>\n",
       "  <tbody>\n",
       "    <tr>\n",
       "      <th>count</th>\n",
       "      <td>419</td>\n",
       "      <td>419</td>\n",
       "      <td>419</td>\n",
       "      <td>419</td>\n",
       "    </tr>\n",
       "    <tr>\n",
       "      <th>unique</th>\n",
       "      <td>419</td>\n",
       "      <td>1</td>\n",
       "      <td>35</td>\n",
       "      <td>419</td>\n",
       "    </tr>\n",
       "    <tr>\n",
       "      <th>top</th>\n",
       "      <td>2020-08-26 12:52:40.931000</td>\n",
       "      <td>ERROR</td>\n",
       "      <td>sling-threadpool-67387070-8373-45bd-bead-d6282...</td>\n",
       "      <td>[com.day.cq.replication.impl.AgentManagerImpl,...</td>\n",
       "    </tr>\n",
       "    <tr>\n",
       "      <th>freq</th>\n",
       "      <td>1</td>\n",
       "      <td>419</td>\n",
       "      <td>12</td>\n",
       "      <td>1</td>\n",
       "    </tr>\n",
       "    <tr>\n",
       "      <th>first</th>\n",
       "      <td>2020-08-26 07:45:05.851000</td>\n",
       "      <td>NaN</td>\n",
       "      <td>NaN</td>\n",
       "      <td>NaN</td>\n",
       "    </tr>\n",
       "    <tr>\n",
       "      <th>last</th>\n",
       "      <td>2020-08-26 15:47:42.897000</td>\n",
       "      <td>NaN</td>\n",
       "      <td>NaN</td>\n",
       "      <td>NaN</td>\n",
       "    </tr>\n",
       "  </tbody>\n",
       "</table>\n",
       "</div>"
      ],
      "text/plain": [
       "                              date  level  \\\n",
       "count                          419    419   \n",
       "unique                         419      1   \n",
       "top     2020-08-26 12:52:40.931000  ERROR   \n",
       "freq                             1    419   \n",
       "first   2020-08-26 07:45:05.851000    NaN   \n",
       "last    2020-08-26 15:47:42.897000    NaN   \n",
       "\n",
       "                                                    class  \\\n",
       "count                                                 419   \n",
       "unique                                                 35   \n",
       "top     sling-threadpool-67387070-8373-45bd-bead-d6282...   \n",
       "freq                                                   12   \n",
       "first                                                 NaN   \n",
       "last                                                  NaN   \n",
       "\n",
       "                                                  message  \n",
       "count                                                 419  \n",
       "unique                                                419  \n",
       "top     [com.day.cq.replication.impl.AgentManagerImpl,...  \n",
       "freq                                                    1  \n",
       "first                                                 NaN  \n",
       "last                                                  NaN  "
      ]
     },
     "execution_count": 24,
     "metadata": {},
     "output_type": "execute_result"
    }
   ],
   "source": [
    "# Describe the table\n",
    "dfLevelError.describe()"
   ]
  },
  {
   "cell_type": "code",
   "execution_count": null,
   "metadata": {},
   "outputs": [],
   "source": []
  },
  {
   "cell_type": "code",
   "execution_count": null,
   "metadata": {},
   "outputs": [],
   "source": []
  },
  {
   "cell_type": "code",
   "execution_count": null,
   "metadata": {},
   "outputs": [],
   "source": []
  },
  {
   "cell_type": "code",
   "execution_count": null,
   "metadata": {},
   "outputs": [],
   "source": []
  },
  {
   "cell_type": "code",
   "execution_count": null,
   "metadata": {},
   "outputs": [],
   "source": []
  },
  {
   "cell_type": "code",
   "execution_count": null,
   "metadata": {},
   "outputs": [],
   "source": []
  }
 ],
 "metadata": {
  "kernelspec": {
   "display_name": "Python 3",
   "language": "python",
   "name": "python3"
  },
  "language_info": {
   "codemirror_mode": {
    "name": "ipython",
    "version": 3
   },
   "file_extension": ".py",
   "mimetype": "text/x-python",
   "name": "python",
   "nbconvert_exporter": "python",
   "pygments_lexer": "ipython3",
   "version": "3.7.7"
  },
  "toc": {
   "base_numbering": 1,
   "nav_menu": {},
   "number_sections": true,
   "sideBar": true,
   "skip_h1_title": false,
   "title_cell": "Table of Contents",
   "title_sidebar": "Contents",
   "toc_cell": false,
   "toc_position": {},
   "toc_section_display": true,
   "toc_window_display": false
  },
  "varInspector": {
   "cols": {
    "lenName": 16,
    "lenType": 16,
    "lenVar": 40
   },
   "kernels_config": {
    "python": {
     "delete_cmd_postfix": "",
     "delete_cmd_prefix": "del ",
     "library": "var_list.py",
     "varRefreshCmd": "print(var_dic_list())"
    },
    "r": {
     "delete_cmd_postfix": ") ",
     "delete_cmd_prefix": "rm(",
     "library": "var_list.r",
     "varRefreshCmd": "cat(var_dic_list()) "
    }
   },
   "types_to_exclude": [
    "module",
    "function",
    "builtin_function_or_method",
    "instance",
    "_Feature"
   ],
   "window_display": false
  }
 },
 "nbformat": 4,
 "nbformat_minor": 4
}
