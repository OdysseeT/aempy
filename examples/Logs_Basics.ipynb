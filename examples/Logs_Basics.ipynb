{
 "cells": [
  {
   "cell_type": "code",
   "execution_count": null,
   "metadata": {
    "ExecuteTime": {
     "end_time": "2020-08-26T13:47:57.795473Z",
     "start_time": "2020-08-26T13:47:57.316757Z"
    }
   },
   "outputs": [],
   "source": [
    "# Import AEMpy library\n",
    "import aempy"
   ]
  },
  {
   "cell_type": "markdown",
   "metadata": {},
   "source": [
    "### Connect and display the AEM version"
   ]
  },
  {
   "cell_type": "code",
   "execution_count": null,
   "metadata": {
    "ExecuteTime": {
     "end_time": "2020-08-26T13:47:57.799948Z",
     "start_time": "2020-08-26T13:47:57.797288Z"
    }
   },
   "outputs": [],
   "source": [
    "# Connect to the AEM Instance\n",
    "instance = aempy.AEM()"
   ]
  },
  {
   "cell_type": "code",
   "execution_count": null,
   "metadata": {
    "ExecuteTime": {
     "end_time": "2020-08-26T13:47:57.820297Z",
     "start_time": "2020-08-26T13:47:57.803100Z"
    }
   },
   "outputs": [],
   "source": [
    "# Get the product information\n",
    "productinfo = instance.info()"
   ]
  },
  {
   "cell_type": "code",
   "execution_count": null,
   "metadata": {
    "ExecuteTime": {
     "end_time": "2020-08-26T13:47:57.826063Z",
     "start_time": "2020-08-26T13:47:57.823252Z"
    }
   },
   "outputs": [],
   "source": [
    "# Print the product version\n",
    "print(productinfo.version)"
   ]
  },
  {
   "cell_type": "markdown",
   "metadata": {},
   "source": [
    "### Get the error logs"
   ]
  },
  {
   "cell_type": "code",
   "execution_count": null,
   "metadata": {
    "ExecuteTime": {
     "end_time": "2020-08-26T13:47:57.831396Z",
     "start_time": "2020-08-26T13:47:57.828379Z"
    }
   },
   "outputs": [],
   "source": [
    "# Connect to the system console\n",
    "system = aempy.System()"
   ]
  },
  {
   "cell_type": "code",
   "execution_count": null,
   "metadata": {
    "ExecuteTime": {
     "end_time": "2020-08-26T13:47:57.850936Z",
     "start_time": "2020-08-26T13:47:57.834026Z"
    }
   },
   "outputs": [],
   "source": [
    "# Get the five first lines of the error.log file\n",
    "errorlogs = system.log_error(5)"
   ]
  },
  {
   "cell_type": "code",
   "execution_count": null,
   "metadata": {
    "ExecuteTime": {
     "end_time": "2020-08-26T13:47:57.858536Z",
     "start_time": "2020-08-26T13:47:57.853034Z"
    }
   },
   "outputs": [],
   "source": [
    "# Print the lines\n",
    "print(errorlogs)"
   ]
  },
  {
   "cell_type": "markdown",
   "metadata": {},
   "source": [
    "### Parse the logs"
   ]
  },
  {
   "cell_type": "code",
   "execution_count": null,
   "metadata": {
    "ExecuteTime": {
     "end_time": "2020-08-26T13:47:57.946329Z",
     "start_time": "2020-08-26T13:47:57.863615Z"
    }
   },
   "outputs": [],
   "source": [
    "# Let's get more line from error.log (default: 10.000 lines)\n",
    "errorlogs = system.log_error()"
   ]
  },
  {
   "cell_type": "markdown",
   "metadata": {},
   "source": [
    "We import a new library named **pandas** (it has nothing to do with the animal). Pandas is a Data analysis and manipulation library, mainly using a dataframe object"
   ]
  },
  {
   "cell_type": "code",
   "execution_count": null,
   "metadata": {
    "ExecuteTime": {
     "end_time": "2020-08-26T13:47:57.951543Z",
     "start_time": "2020-08-26T13:47:57.949464Z"
    }
   },
   "outputs": [],
   "source": [
    "# Import Pandas library\n",
    "import pandas as pd"
   ]
  },
  {
   "cell_type": "markdown",
   "metadata": {},
   "source": [
    "*Note: It is a good practice to have all the imports at the begining of your python program. But for the comprehension of this tutorial, we added it here.*"
   ]
  },
  {
   "cell_type": "code",
   "execution_count": null,
   "metadata": {
    "ExecuteTime": {
     "end_time": "2020-08-26T13:47:57.987078Z",
     "start_time": "2020-08-26T13:47:57.953735Z"
    }
   },
   "outputs": [],
   "source": [
    "# Split the logs and arrange in a table using the Pandas library\n",
    "dfLog = pd.DataFrame([sub.split(\" \") for sub in errorlogs])"
   ]
  },
  {
   "cell_type": "code",
   "execution_count": null,
   "metadata": {
    "ExecuteTime": {
     "end_time": "2020-08-26T13:47:58.024841Z",
     "start_time": "2020-08-26T13:47:58.018623Z"
    }
   },
   "outputs": [],
   "source": [
    "# Add Names to the columns\n",
    "dfLog = dfLog.rename(columns={0:'date',1:'time',2:'level',3:'ID',4:'class',5:'msg'})"
   ]
  },
  {
   "cell_type": "code",
   "execution_count": null,
   "metadata": {
    "ExecuteTime": {
     "end_time": "2020-08-26T14:03:25.475725Z",
     "start_time": "2020-08-26T14:03:25.454860Z"
    }
   },
   "outputs": [],
   "source": [
    "# Print the parsed logs\n",
    "dfLog.head()"
   ]
  },
  {
   "cell_type": "markdown",
   "metadata": {},
   "source": [
    "### Convert logs to a pandas Dataframe"
   ]
  },
  {
   "cell_type": "code",
   "execution_count": null,
   "metadata": {
    "ExecuteTime": {
     "end_time": "2020-08-26T13:48:24.904921Z",
     "start_time": "2020-08-26T13:48:19.356667Z"
    }
   },
   "outputs": [],
   "source": [
    "# There is a builtin parsing in AEMpy to automatically convert logs to pandas dataframe\n",
    "dfErrors = system.log_to_pandas(errorlogs)"
   ]
  },
  {
   "cell_type": "code",
   "execution_count": null,
   "metadata": {
    "ExecuteTime": {
     "end_time": "2020-08-26T13:48:53.809428Z",
     "start_time": "2020-08-26T13:48:53.783846Z"
    }
   },
   "outputs": [],
   "source": [
    "# Print the first 10 lines of the pandas dataframe\n",
    "dfErrors.head()"
   ]
  },
  {
   "cell_type": "code",
   "execution_count": null,
   "metadata": {
    "ExecuteTime": {
     "end_time": "2020-08-26T13:49:00.160242Z",
     "start_time": "2020-08-26T13:48:59.936210Z"
    }
   },
   "outputs": [],
   "source": [
    "# Ask pandas to provide a description of the dataframe\n",
    "dfErrors.describe()"
   ]
  },
  {
   "cell_type": "markdown",
   "metadata": {},
   "source": [
    "### Analyze the logs with the *ERROR* level"
   ]
  },
  {
   "cell_type": "code",
   "execution_count": null,
   "metadata": {
    "ExecuteTime": {
     "end_time": "2020-08-26T13:49:15.818017Z",
     "start_time": "2020-08-26T13:49:15.811998Z"
    }
   },
   "outputs": [],
   "source": [
    "# Filter the logs by level\n",
    "dfLevelError = dfErrors[dfErrors[\"level\"].str.match(\"ERROR\")]"
   ]
  },
  {
   "cell_type": "code",
   "execution_count": null,
   "metadata": {
    "ExecuteTime": {
     "end_time": "2020-08-26T13:49:16.533371Z",
     "start_time": "2020-08-26T13:49:16.530397Z"
    }
   },
   "outputs": [],
   "source": [
    "# Add a title for the next actions\n",
    "print(\"Information about log errors:\")"
   ]
  },
  {
   "cell_type": "code",
   "execution_count": null,
   "metadata": {
    "ExecuteTime": {
     "end_time": "2020-08-26T13:49:19.355706Z",
     "start_time": "2020-08-26T13:49:19.342619Z"
    }
   },
   "outputs": [],
   "source": [
    "# Display the first 5 lines of the dataframe\n",
    "dfLevelError.head()"
   ]
  },
  {
   "cell_type": "code",
   "execution_count": null,
   "metadata": {
    "ExecuteTime": {
     "end_time": "2020-08-26T13:49:26.805917Z",
     "start_time": "2020-08-26T13:49:26.779399Z"
    }
   },
   "outputs": [],
   "source": [
    "# Display the last 5 lines of the dataframe\n",
    "dfLevelError.tail()"
   ]
  },
  {
   "cell_type": "code",
   "execution_count": null,
   "metadata": {
    "ExecuteTime": {
     "end_time": "2020-08-26T13:49:43.285992Z",
     "start_time": "2020-08-26T13:49:43.215105Z"
    }
   },
   "outputs": [],
   "source": [
    "# Describe the table\n",
    "dfLevelError.describe()"
   ]
  },
  {
   "cell_type": "code",
   "execution_count": null,
   "metadata": {},
   "outputs": [],
   "source": []
  },
  {
   "cell_type": "code",
   "execution_count": null,
   "metadata": {},
   "outputs": [],
   "source": []
  },
  {
   "cell_type": "code",
   "execution_count": null,
   "metadata": {},
   "outputs": [],
   "source": []
  },
  {
   "cell_type": "code",
   "execution_count": null,
   "metadata": {},
   "outputs": [],
   "source": []
  }
 ],
 "metadata": {
  "kernelspec": {
   "display_name": "Python 3",
   "language": "python",
   "name": "python3"
  },
  "language_info": {
   "codemirror_mode": {
    "name": "ipython",
    "version": 3
   },
   "file_extension": ".py",
   "mimetype": "text/x-python",
   "name": "python",
   "nbconvert_exporter": "python",
   "pygments_lexer": "ipython3",
   "version": "3.7.7"
  },
  "toc": {
   "base_numbering": 1,
   "nav_menu": {},
   "number_sections": true,
   "sideBar": true,
   "skip_h1_title": false,
   "title_cell": "Table of Contents",
   "title_sidebar": "Contents",
   "toc_cell": false,
   "toc_position": {},
   "toc_section_display": true,
   "toc_window_display": false
  },
  "varInspector": {
   "cols": {
    "lenName": 16,
    "lenType": 16,
    "lenVar": 40
   },
   "kernels_config": {
    "python": {
     "delete_cmd_postfix": "",
     "delete_cmd_prefix": "del ",
     "library": "var_list.py",
     "varRefreshCmd": "print(var_dic_list())"
    },
    "r": {
     "delete_cmd_postfix": ") ",
     "delete_cmd_prefix": "rm(",
     "library": "var_list.r",
     "varRefreshCmd": "cat(var_dic_list()) "
    }
   },
   "types_to_exclude": [
    "module",
    "function",
    "builtin_function_or_method",
    "instance",
    "_Feature"
   ],
   "window_display": false
  }
 },
 "nbformat": 4,
 "nbformat_minor": 4
}
