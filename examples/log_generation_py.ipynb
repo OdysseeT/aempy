{
 "cells": [
  {
   "cell_type": "code",
   "execution_count": null,
   "metadata": {},
   "outputs": [],
   "source": [
    "import csv\n",
    "n = 10_000\n",
    "np.random.seed(123)\n",
    "timestamps = pd.date_range(start='29.07.2020 16:30:00.000', \n",
    "                           periods=60*60*4, freq='1s')\n",
    "level = ['*INFO* [pool-21-thread-1] com.adobe.granite.maintenance.crx.impl.RevisionCleanupTask Starting RevisionGC with compaction type tail', \\\n",
    "         '*INFO* [pool-21-thread-1] com.adobe.granite.maintenance.oak Service [8227, [org.apache.jackrabbit.oak.spi.gc.GCMonitor]] ServiceEvent', \\\n",
    "         '*INFO* [oak-lucene-827] org.apache.jackrabbit.oak.plugins.blob.datastore.DataStoreBlobStore Deleted blobs [549be793004301fb22f90c2a5f752a82d3281c0b05964dcb3d0633cfbea12da4]', \\\n",
    "         '*INFO* [sling-default-5-health-org.apache.sling.discovery.oak.SynchronizedClocksHealthCheck] org.apache.sling.discovery.oak.SynchronizedClocksHealthCheck execute: no topology connectors connected to local instance.', \\\n",
    "         '*INFO* [Apache Sling Resource Resolver Finalizer Thread] com.adobe.granite.repository Service [7798, [org.apache.jackrabbit.oak.api.jmx.SessionMBean]] ServiceEvent UNREGISTERING', \\\n",
    "         '*WARN* [0:0:0:0:0:0:0:1 [1598428026065] GET /libs/granite/core/content/login.html HTTP/1.1] libs.granite.core.components.login.login$jsp j_reason param value \\'unknown\\' cannot be mapped to a valid reason message: ignoring', \\\n",
    "         '*WARN* [0:0:0:0:0:0:0:1 [1598451322943] GET /bin/querybuilder.json HTTP/1.1] org.apache.jackrabbit.oak.query.QueryImpl Traversal query (query without index): select [jcr:path], [jcr:score], * from [nt:base] as a where [jcr:primaryType] like \\'dam:Asset\\' and isdescendantnode(a, \\'/content/dam/we-retail/en\\') /* xpath: /jcr:root/content/dam/we-retail/en//*[(jcr:like(@jcr:primaryType, \\'dam:Asset\\'))] */; consider creating an index', \\\n",
    "         '*ERROR* [sling-threadpool-67387070-8373-45bd-bead-d6282f6b4973-(apache-sling-job-thread-pool)-21-com_day_cq_replication_job_publish(com/day/cq/replication/job/publish)] com.day.cq.replication.impl.AgentManagerImpl Job contains agent which is not started: publish. waiting ReplicationJob{job=JobImpl [properties=org.apache.sling.api.wrappers.ValueMapDecorator@ff521456']\n",
    "\n",
    "df = pd.DataFrame(\n",
    "    {'date': np.random.choice(timestamps, n), \n",
    "     'level': np.random.choice(level, n),})\n",
    "df = df.sort_values(\"date\")\n",
    "df.to_csv(\"error.log.2020-07-29\", sep=' ', index=False, header=False, date_format='%d.%m.%Y %H:%M:%S.%f', quoting=csv.QUOTE_NONE, quotechar=\"'\",  escapechar=\" \")"
   ]
  }
 ],
 "metadata": {
  "kernelspec": {
   "display_name": "Python 3",
   "language": "python",
   "name": "python3"
  },
  "language_info": {
   "codemirror_mode": {
    "name": "ipython",
    "version": 3
   },
   "file_extension": ".py",
   "mimetype": "text/x-python",
   "name": "python",
   "nbconvert_exporter": "python",
   "pygments_lexer": "ipython3",
   "version": "3.7.7"
  },
  "toc": {
   "base_numbering": 1,
   "nav_menu": {},
   "number_sections": true,
   "sideBar": true,
   "skip_h1_title": false,
   "title_cell": "Table of Contents",
   "title_sidebar": "Contents",
   "toc_cell": false,
   "toc_position": {},
   "toc_section_display": true,
   "toc_window_display": false
  },
  "varInspector": {
   "cols": {
    "lenName": 16,
    "lenType": 16,
    "lenVar": 40
   },
   "kernels_config": {
    "python": {
     "delete_cmd_postfix": "",
     "delete_cmd_prefix": "del ",
     "library": "var_list.py",
     "varRefreshCmd": "print(var_dic_list())"
    },
    "r": {
     "delete_cmd_postfix": ") ",
     "delete_cmd_prefix": "rm(",
     "library": "var_list.r",
     "varRefreshCmd": "cat(var_dic_list()) "
    }
   },
   "types_to_exclude": [
    "module",
    "function",
    "builtin_function_or_method",
    "instance",
    "_Feature"
   ],
   "window_display": false
  }
 },
 "nbformat": 4,
 "nbformat_minor": 4
}
